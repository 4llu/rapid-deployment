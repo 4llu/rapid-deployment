{
 "cells": [
  {
   "attachments": {},
   "cell_type": "markdown",
   "metadata": {},
   "source": [
    "# Sandbox\n",
    "\n",
    "For playing around and testing. The contents aren't meant to makes sense afterwards or even run in order."
   ]
  },
  {
   "cell_type": "code",
   "execution_count": 2,
   "metadata": {},
   "outputs": [],
   "source": [
    "import os\n",
    "import pandas as pd\n",
    "import numpy as np\n",
    "import matplotlib.pyplot as plt\n",
    "import seaborn as sns\n",
    "import torch\n",
    "import math"
   ]
  },
  {
   "cell_type": "code",
   "execution_count": 3,
   "metadata": {},
   "outputs": [
    {
     "name": "stdout",
     "output_type": "stream",
     "text": [
      "tensor([ 33.9178+0.0000j,  72.8869+36.4596j,  60.0655-2.7283j,   5.5182+92.8429j,\n",
      "        -26.6156-6.7748j])\n",
      "tensor([ 33.9178+0.0000j,  72.8869+36.4596j,  60.0655-2.7283j,   5.5182+92.8429j,\n",
      "        -26.6156-6.7748j])\n"
     ]
    }
   ],
   "source": [
    "a = torch.randn([250, 1, 6000])\n",
    "print(torch.fft.rfft(a)[0, 0, :5])\n",
    "print(torch.fft.rfft(a[0, 0])[:5])"
   ]
  }
 ],
 "metadata": {
  "kernelspec": {
   "display_name": "torch",
   "language": "python",
   "name": "python3"
  },
  "language_info": {
   "codemirror_mode": {
    "name": "ipython",
    "version": 3
   },
   "file_extension": ".py",
   "mimetype": "text/x-python",
   "name": "python",
   "nbconvert_exporter": "python",
   "pygments_lexer": "ipython3",
   "version": "3.9.16"
  },
  "orig_nbformat": 4
 },
 "nbformat": 4,
 "nbformat_minor": 2
}
